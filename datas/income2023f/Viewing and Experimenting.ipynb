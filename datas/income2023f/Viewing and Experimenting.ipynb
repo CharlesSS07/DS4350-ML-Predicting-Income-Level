{
 "cells": [
  {
   "cell_type": "code",
   "execution_count": 1,
   "id": "7a60e699-cfca-4595-9082-512fd7ef7f73",
   "metadata": {
    "tags": []
   },
   "outputs": [],
   "source": [
    "import sys\n",
    "sys.path.append('../../')"
   ]
  },
  {
   "cell_type": "code",
   "execution_count": 2,
   "id": "9bff337f-a34c-4593-9982-51e682fb109e",
   "metadata": {
    "tags": []
   },
   "outputs": [
    {
     "name": "stdout",
     "output_type": "stream",
     "text": [
      "Loading Data\n",
      "Finished Loading Data\n"
     ]
    }
   ],
   "source": [
    "import datas.income2023f as income2023f"
   ]
  },
  {
   "cell_type": "code",
   "execution_count": 3,
   "id": "193e3691-3d21-49a3-8997-483c9f616499",
   "metadata": {
    "tags": []
   },
   "outputs": [
    {
     "data": {
      "text/html": [
       "<div>\n",
       "<style scoped>\n",
       "    .dataframe tbody tr th:only-of-type {\n",
       "        vertical-align: middle;\n",
       "    }\n",
       "\n",
       "    .dataframe tbody tr th {\n",
       "        vertical-align: top;\n",
       "    }\n",
       "\n",
       "    .dataframe thead th {\n",
       "        text-align: right;\n",
       "    }\n",
       "</style>\n",
       "<table border=\"1\" class=\"dataframe\">\n",
       "  <thead>\n",
       "    <tr style=\"text-align: right;\">\n",
       "      <th></th>\n",
       "      <th>age</th>\n",
       "      <th>workclass</th>\n",
       "      <th>fnlwgt</th>\n",
       "      <th>education</th>\n",
       "      <th>education.num</th>\n",
       "      <th>marital.status</th>\n",
       "      <th>occupation</th>\n",
       "      <th>relationship</th>\n",
       "      <th>race</th>\n",
       "      <th>sex</th>\n",
       "      <th>capital.gain</th>\n",
       "      <th>capital.loss</th>\n",
       "      <th>hours.per.week</th>\n",
       "      <th>native.country</th>\n",
       "      <th>income&gt;50K</th>\n",
       "    </tr>\n",
       "  </thead>\n",
       "  <tbody>\n",
       "    <tr>\n",
       "      <th>0</th>\n",
       "      <td>53</td>\n",
       "      <td>Self-emp-not-inc</td>\n",
       "      <td>93449</td>\n",
       "      <td>Prof-school</td>\n",
       "      <td>15</td>\n",
       "      <td>Married-civ-spouse</td>\n",
       "      <td>Prof-specialty</td>\n",
       "      <td>Husband</td>\n",
       "      <td>Asian-Pac-Islander</td>\n",
       "      <td>Male</td>\n",
       "      <td>0</td>\n",
       "      <td>0</td>\n",
       "      <td>40</td>\n",
       "      <td>India</td>\n",
       "      <td>1</td>\n",
       "    </tr>\n",
       "    <tr>\n",
       "      <th>1</th>\n",
       "      <td>33</td>\n",
       "      <td>Self-emp-not-inc</td>\n",
       "      <td>123424</td>\n",
       "      <td>Bachelors</td>\n",
       "      <td>13</td>\n",
       "      <td>Married-civ-spouse</td>\n",
       "      <td>Exec-managerial</td>\n",
       "      <td>Husband</td>\n",
       "      <td>White</td>\n",
       "      <td>Male</td>\n",
       "      <td>0</td>\n",
       "      <td>0</td>\n",
       "      <td>40</td>\n",
       "      <td>United-States</td>\n",
       "      <td>1</td>\n",
       "    </tr>\n",
       "    <tr>\n",
       "      <th>2</th>\n",
       "      <td>47</td>\n",
       "      <td>Private</td>\n",
       "      <td>144844</td>\n",
       "      <td>HS-grad</td>\n",
       "      <td>9</td>\n",
       "      <td>Married-civ-spouse</td>\n",
       "      <td>Craft-repair</td>\n",
       "      <td>Husband</td>\n",
       "      <td>White</td>\n",
       "      <td>Male</td>\n",
       "      <td>0</td>\n",
       "      <td>0</td>\n",
       "      <td>40</td>\n",
       "      <td>United-States</td>\n",
       "      <td>0</td>\n",
       "    </tr>\n",
       "    <tr>\n",
       "      <th>3</th>\n",
       "      <td>40</td>\n",
       "      <td>Private</td>\n",
       "      <td>114580</td>\n",
       "      <td>HS-grad</td>\n",
       "      <td>9</td>\n",
       "      <td>Divorced</td>\n",
       "      <td>Craft-repair</td>\n",
       "      <td>Other-relative</td>\n",
       "      <td>White</td>\n",
       "      <td>Female</td>\n",
       "      <td>0</td>\n",
       "      <td>0</td>\n",
       "      <td>40</td>\n",
       "      <td>Vietnam</td>\n",
       "      <td>0</td>\n",
       "    </tr>\n",
       "    <tr>\n",
       "      <th>4</th>\n",
       "      <td>39</td>\n",
       "      <td>Private</td>\n",
       "      <td>115618</td>\n",
       "      <td>HS-grad</td>\n",
       "      <td>9</td>\n",
       "      <td>Married-civ-spouse</td>\n",
       "      <td>Transport-moving</td>\n",
       "      <td>Husband</td>\n",
       "      <td>White</td>\n",
       "      <td>Male</td>\n",
       "      <td>0</td>\n",
       "      <td>0</td>\n",
       "      <td>50</td>\n",
       "      <td>United-States</td>\n",
       "      <td>0</td>\n",
       "    </tr>\n",
       "    <tr>\n",
       "      <th>...</th>\n",
       "      <td>...</td>\n",
       "      <td>...</td>\n",
       "      <td>...</td>\n",
       "      <td>...</td>\n",
       "      <td>...</td>\n",
       "      <td>...</td>\n",
       "      <td>...</td>\n",
       "      <td>...</td>\n",
       "      <td>...</td>\n",
       "      <td>...</td>\n",
       "      <td>...</td>\n",
       "      <td>...</td>\n",
       "      <td>...</td>\n",
       "      <td>...</td>\n",
       "      <td>...</td>\n",
       "    </tr>\n",
       "    <tr>\n",
       "      <th>24995</th>\n",
       "      <td>18</td>\n",
       "      <td>Private</td>\n",
       "      <td>83451</td>\n",
       "      <td>HS-grad</td>\n",
       "      <td>9</td>\n",
       "      <td>Never-married</td>\n",
       "      <td>Adm-clerical</td>\n",
       "      <td>Not-in-family</td>\n",
       "      <td>White</td>\n",
       "      <td>Female</td>\n",
       "      <td>0</td>\n",
       "      <td>0</td>\n",
       "      <td>25</td>\n",
       "      <td>United-States</td>\n",
       "      <td>0</td>\n",
       "    </tr>\n",
       "    <tr>\n",
       "      <th>24996</th>\n",
       "      <td>64</td>\n",
       "      <td>Local-gov</td>\n",
       "      <td>202738</td>\n",
       "      <td>HS-grad</td>\n",
       "      <td>9</td>\n",
       "      <td>Married-civ-spouse</td>\n",
       "      <td>Adm-clerical</td>\n",
       "      <td>Wife</td>\n",
       "      <td>White</td>\n",
       "      <td>Female</td>\n",
       "      <td>0</td>\n",
       "      <td>0</td>\n",
       "      <td>35</td>\n",
       "      <td>United-States</td>\n",
       "      <td>0</td>\n",
       "    </tr>\n",
       "    <tr>\n",
       "      <th>24997</th>\n",
       "      <td>39</td>\n",
       "      <td>Private</td>\n",
       "      <td>225544</td>\n",
       "      <td>Masters</td>\n",
       "      <td>14</td>\n",
       "      <td>Married-civ-spouse</td>\n",
       "      <td>Transport-moving</td>\n",
       "      <td>Husband</td>\n",
       "      <td>White</td>\n",
       "      <td>Male</td>\n",
       "      <td>0</td>\n",
       "      <td>0</td>\n",
       "      <td>40</td>\n",
       "      <td>Poland</td>\n",
       "      <td>0</td>\n",
       "    </tr>\n",
       "    <tr>\n",
       "      <th>24998</th>\n",
       "      <td>53</td>\n",
       "      <td>Private</td>\n",
       "      <td>346871</td>\n",
       "      <td>HS-grad</td>\n",
       "      <td>9</td>\n",
       "      <td>Divorced</td>\n",
       "      <td>Prof-specialty</td>\n",
       "      <td>Not-in-family</td>\n",
       "      <td>White</td>\n",
       "      <td>Male</td>\n",
       "      <td>4787</td>\n",
       "      <td>0</td>\n",
       "      <td>46</td>\n",
       "      <td>United-States</td>\n",
       "      <td>1</td>\n",
       "    </tr>\n",
       "    <tr>\n",
       "      <th>24999</th>\n",
       "      <td>18</td>\n",
       "      <td>?</td>\n",
       "      <td>192321</td>\n",
       "      <td>Some-college</td>\n",
       "      <td>10</td>\n",
       "      <td>Never-married</td>\n",
       "      <td>?</td>\n",
       "      <td>Own-child</td>\n",
       "      <td>White</td>\n",
       "      <td>Male</td>\n",
       "      <td>0</td>\n",
       "      <td>0</td>\n",
       "      <td>40</td>\n",
       "      <td>United-States</td>\n",
       "      <td>0</td>\n",
       "    </tr>\n",
       "  </tbody>\n",
       "</table>\n",
       "<p>25000 rows × 15 columns</p>\n",
       "</div>"
      ],
      "text/plain": [
       "       age         workclass  fnlwgt     education  education.num  \\\n",
       "0       53  Self-emp-not-inc   93449   Prof-school             15   \n",
       "1       33  Self-emp-not-inc  123424     Bachelors             13   \n",
       "2       47           Private  144844       HS-grad              9   \n",
       "3       40           Private  114580       HS-grad              9   \n",
       "4       39           Private  115618       HS-grad              9   \n",
       "...    ...               ...     ...           ...            ...   \n",
       "24995   18           Private   83451       HS-grad              9   \n",
       "24996   64         Local-gov  202738       HS-grad              9   \n",
       "24997   39           Private  225544       Masters             14   \n",
       "24998   53           Private  346871       HS-grad              9   \n",
       "24999   18                 ?  192321  Some-college             10   \n",
       "\n",
       "           marital.status        occupation    relationship  \\\n",
       "0      Married-civ-spouse    Prof-specialty         Husband   \n",
       "1      Married-civ-spouse   Exec-managerial         Husband   \n",
       "2      Married-civ-spouse      Craft-repair         Husband   \n",
       "3                Divorced      Craft-repair  Other-relative   \n",
       "4      Married-civ-spouse  Transport-moving         Husband   \n",
       "...                   ...               ...             ...   \n",
       "24995       Never-married      Adm-clerical   Not-in-family   \n",
       "24996  Married-civ-spouse      Adm-clerical            Wife   \n",
       "24997  Married-civ-spouse  Transport-moving         Husband   \n",
       "24998            Divorced    Prof-specialty   Not-in-family   \n",
       "24999       Never-married                 ?       Own-child   \n",
       "\n",
       "                     race     sex  capital.gain  capital.loss  hours.per.week  \\\n",
       "0      Asian-Pac-Islander    Male             0             0              40   \n",
       "1                   White    Male             0             0              40   \n",
       "2                   White    Male             0             0              40   \n",
       "3                   White  Female             0             0              40   \n",
       "4                   White    Male             0             0              50   \n",
       "...                   ...     ...           ...           ...             ...   \n",
       "24995               White  Female             0             0              25   \n",
       "24996               White  Female             0             0              35   \n",
       "24997               White    Male             0             0              40   \n",
       "24998               White    Male          4787             0              46   \n",
       "24999               White    Male             0             0              40   \n",
       "\n",
       "      native.country  income>50K  \n",
       "0              India           1  \n",
       "1      United-States           1  \n",
       "2      United-States           0  \n",
       "3            Vietnam           0  \n",
       "4      United-States           0  \n",
       "...              ...         ...  \n",
       "24995  United-States           0  \n",
       "24996  United-States           0  \n",
       "24997         Poland           0  \n",
       "24998  United-States           1  \n",
       "24999  United-States           0  \n",
       "\n",
       "[25000 rows x 15 columns]"
      ]
     },
     "execution_count": 3,
     "metadata": {},
     "output_type": "execute_result"
    }
   ],
   "source": [
    "income2023f.train"
   ]
  },
  {
   "cell_type": "code",
   "execution_count": 16,
   "id": "da89a079-0599-426f-86d2-533d72adbe0e",
   "metadata": {
    "tags": []
   },
   "outputs": [],
   "source": [
    "import matplotlib.pyplot as plt\n",
    "import numpy as np"
   ]
  },
  {
   "cell_type": "code",
   "execution_count": 17,
   "id": "b8c33915-084f-41a0-91e0-923739cd920c",
   "metadata": {
    "tags": []
   },
   "outputs": [
    {
     "data": {
      "text/plain": [
       "array([17, 18, 19, 20, 21, 22, 23, 24, 25, 26, 27, 28, 29, 30, 31, 32, 33,\n",
       "       34, 35, 36, 37, 38, 39, 40, 41, 42, 43, 44, 45, 46, 47, 48, 49, 50,\n",
       "       51, 52, 53, 54, 55, 56, 57, 58, 59, 60, 61, 62, 63, 64, 65, 66, 67,\n",
       "       68, 69, 70, 71, 72, 73, 74, 75, 76, 77, 78, 79, 80, 81, 82, 83, 84,\n",
       "       85, 87, 88, 89, 90])"
      ]
     },
     "execution_count": 17,
     "metadata": {},
     "output_type": "execute_result"
    }
   ],
   "source": [
    "np.unique(income2023f.train.age)"
   ]
  },
  {
   "cell_type": "code",
   "execution_count": 19,
   "id": "bf42b8fe-5452-4b54-977e-1926cf252ebc",
   "metadata": {
    "tags": []
   },
   "outputs": [
    {
     "data": {
      "image/png": "[encoded data removed]",
      "text/plain": [
       "<Figure size 640x480 with 1 Axes>"
      ]
     },
     "metadata": {},
     "output_type": "display_data"
    }
   ],
   "source": [
    "plt.hist(income2023f.train.age, bins=np.arange(17, 90, 1))\n",
    "plt.title('Age Distribution of Dataset Samples')\n",
    "None"
   ]
  },
  {
   "cell_type": "code",
   "execution_count": 74,
   "id": "9ac16580-9d57-4b25-a4c2-886810fe181c",
   "metadata": {
    "tags": []
   },
   "outputs": [],
   "source": [
    "def make_one_hot(x, one_hot_order):\n",
    "    ret = np.zeros(shape=len(one_hot_order), dtype=np.float64)\n",
    "    for i, k in enumerate(one_hot_order):\n",
    "        if x==k:\n",
    "            ret[i] = 1\n",
    "            return ret\n",
    "    raise Exception(f'Is not a known one-hot category: {x}')"
   ]
  },
  {
   "cell_type": "code",
   "execution_count": 24,
   "id": "09b614b1-1aca-49d2-8633-6ba81c7000a0",
   "metadata": {
    "tags": []
   },
   "outputs": [
    {
     "data": {
      "text/plain": [
       "array(['?', 'Federal-gov', 'Local-gov', 'Never-worked', 'Private',\n",
       "       'Self-emp-inc', 'Self-emp-not-inc', 'State-gov', 'Without-pay'],\n",
       "      dtype=object)"
      ]
     },
     "execution_count": 24,
     "metadata": {},
     "output_type": "execute_result"
    }
   ],
   "source": [
    "np.unique(income2023f.train.workclass)"
   ]
  },
  {
   "cell_type": "code",
   "execution_count": 34,
   "id": "44495af9-27d0-4f6c-8bda-4da772d22099",
   "metadata": {
    "tags": []
   },
   "outputs": [
    {
     "data": {
      "text/plain": [
       "(25000, 9)"
      ]
     },
     "execution_count": 34,
     "metadata": {},
     "output_type": "execute_result"
    }
   ],
   "source": [
    "workclass_one_hot_order = [\n",
    "    '?',\n",
    "    'Federal-gov',\n",
    "    'Local-gov',\n",
    "    'Never-worked',\n",
    "    'Private',\n",
    "    'Self-emp-inc',\n",
    "    'Self-emp-not-inc',\n",
    "    'State-gov',\n",
    "    'Without-pay'\n",
    "]\n",
    "workclass = np.array(\n",
    "    [\n",
    "        make_one_hot(\n",
    "            x,\n",
    "            workclass_one_hot_order\n",
    "        )\n",
    "        for x in income2023f.train.workclass\n",
    "    ]\n",
    ")\n",
    "workclass.shape"
   ]
  },
  {
   "cell_type": "code",
   "execution_count": 50,
   "id": "a3dbf6d7-9186-468d-bec1-79ea8a266262",
   "metadata": {
    "tags": []
   },
   "outputs": [
    {
     "data": {
      "image/png": "[encoded data removed]",
      "text/plain": [
       "<Figure size 640x480 with 1 Axes>"
      ]
     },
     "metadata": {},
     "output_type": "display_data"
    }
   ],
   "source": [
    "for i, workclass_i in enumerate(workclass.T):\n",
    "    plt.bar(workclass_one_hot_order[i], sum(workclass_i), width=0.5)\n",
    "plt.xticks(rotation=90)\n",
    "plt.yscale('log')\n",
    "None"
   ]
  },
  {
   "cell_type": "code",
   "execution_count": 56,
   "id": "b0856387-aff7-4207-ad57-dedbb987b09f",
   "metadata": {
    "tags": []
   },
   "outputs": [
    {
     "data": {
      "text/plain": [
       "array([  12285,   13769,   18827, ..., 1366120, 1484705, 1490400])"
      ]
     },
     "execution_count": 56,
     "metadata": {},
     "output_type": "execute_result"
    }
   ],
   "source": [
    "np.unique(income2023f.train.fnlwgt)"
   ]
  },
  {
   "cell_type": "code",
   "execution_count": 65,
   "id": "60c854bb-b49e-4887-8d43-da19d9dca931",
   "metadata": {
    "tags": []
   },
   "outputs": [
    {
     "data": {
      "image/png": "[encoded data removed]",
      "text/plain": [
       "<Figure size 640x480 with 1 Axes>"
      ]
     },
     "metadata": {},
     "output_type": "display_data"
    }
   ],
   "source": [
    "plt.hist(income2023f.train.fnlwgt, bins=np.arange(12285, 1490400, 5000))\n",
    "plt.title('fnlwgt')\n",
    "None"
   ]
  },
  {
   "cell_type": "code",
   "execution_count": 67,
   "id": "ab425ab1-15cc-41fe-9054-1ab384c55eb8",
   "metadata": {
    "tags": []
   },
   "outputs": [
    {
     "data": {
      "text/plain": [
       "array(['10th', '11th', '12th', '1st-4th', '5th-6th', '7th-8th', '9th',\n",
       "       'Assoc-acdm', 'Assoc-voc', 'Bachelors', 'Doctorate', 'HS-grad',\n",
       "       'Masters', 'Preschool', 'Prof-school', 'Some-college'],\n",
       "      dtype=object)"
      ]
     },
     "execution_count": 67,
     "metadata": {},
     "output_type": "execute_result"
    }
   ],
   "source": [
    "np.unique(income2023f.train.education)"
   ]
  },
  {
   "cell_type": "code",
   "execution_count": 76,
   "id": "fe4947f4-a4b1-4348-bae7-54f801354b4d",
   "metadata": {
    "tags": []
   },
   "outputs": [
    {
     "data": {
      "text/plain": [
       "(25000, 16)"
      ]
     },
     "execution_count": 76,
     "metadata": {},
     "output_type": "execute_result"
    }
   ],
   "source": [
    "education_one_hot_order = ['10th', '11th', '12th', '1st-4th', '5th-6th', '7th-8th', '9th',\n",
    "       'Assoc-acdm', 'Assoc-voc', 'Bachelors', 'Doctorate', 'HS-grad',\n",
    "       'Masters', 'Preschool', 'Prof-school', 'Some-college']\n",
    "education = np.array([\n",
    "    make_one_hot(x, education_one_hot_order)\n",
    "    for x in income2023f.train.education\n",
    "])\n",
    "education.shape"
   ]
  },
  {
   "cell_type": "code",
   "execution_count": 78,
   "id": "f546670b-57e0-4498-b005-2b8efac2cfa6",
   "metadata": {
    "tags": []
   },
   "outputs": [
    {
     "data": {
      "image/png": "[encoded data removed]",
      "text/plain": [
       "<Figure size 640x480 with 1 Axes>"
      ]
     },
     "metadata": {},
     "output_type": "display_data"
    }
   ],
   "source": [
    "for i, education_i in enumerate(education.T):\n",
    "    plt.bar(education_one_hot_order[i], sum(education_i), width=0.5)\n",
    "plt.xticks(rotation=90)\n",
    "# plt.yscale('log')\n",
    "None"
   ]
  },
  {
   "cell_type": "code",
   "execution_count": null,
   "id": "83fe146b-6d63-44ec-ba0e-5f120b26d2fb",
   "metadata": {},
   "outputs": [],
   "source": []
  }
 ],
 "metadata": {
  "kernelspec": {
   "display_name": "Python 3 (ipykernel)",
   "language": "python",
   "name": "python3"
  },
  "language_info": {
   "codemirror_mode": {
    "name": "ipython",
    "version": 3
   },
   "file_extension": ".py",
   "mimetype": "text/x-python",
   "name": "python",
   "nbconvert_exporter": "python",
   "pygments_lexer": "ipython3",
   "version": "3.9.18"
  }
 },
 "nbformat": 4,
 "nbformat_minor": 5
}
