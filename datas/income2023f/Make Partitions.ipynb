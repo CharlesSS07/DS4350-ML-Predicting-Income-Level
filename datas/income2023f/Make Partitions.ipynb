{
 "cells": [
  {
   "cell_type": "code",
   "execution_count": 1,
   "id": "99a99ab8-b789-4d91-bfa3-26d5b74c54f2",
   "metadata": {
    "tags": []
   },
   "outputs": [],
   "source": [
    "import sys\n",
    "sys.path.append('../../')"
   ]
  },
  {
   "cell_type": "code",
   "execution_count": 2,
   "id": "d6573c6e-9745-4bf6-8ec2-c6a4664c50ec",
   "metadata": {
    "tags": []
   },
   "outputs": [
    {
     "name": "stdout",
     "output_type": "stream",
     "text": [
      "Loading Data\n",
      "Finished Loading Data\n"
     ]
    }
   ],
   "source": [
    "import datas.income2023f as income2023f"
   ]
  },
  {
   "cell_type": "code",
   "execution_count": 3,
   "id": "887b0504-ed16-4c1c-907d-90ed6cddfc63",
   "metadata": {
    "tags": []
   },
   "outputs": [],
   "source": [
    "import numpy as np"
   ]
  },
  {
   "cell_type": "code",
   "execution_count": 4,
   "id": "1d1a54d5-41de-472e-8382-0cff4d4cfa1c",
   "metadata": {
    "tags": []
   },
   "outputs": [
    {
     "data": {
      "text/plain": [
       "(25000, 25000, 20000, 5000, 25000)"
      ]
     },
     "execution_count": 4,
     "metadata": {},
     "output_type": "execute_result"
    }
   ],
   "source": [
    "train_full_partition = np.array(range(0, len(income2023f.train)), dtype=int)\n",
    "np.random.shuffle(train_full_partition)\n",
    "np.random.shuffle(train_full_partition)\n",
    "np.random.shuffle(train_full_partition)\n",
    "np.random.shuffle(train_full_partition)\n",
    "partition_index = int(np.floor(0.8*len(train_full_partition)))\n",
    "train_training_partition = train_full_partition[:partition_index]\n",
    "train_validation_partition = train_full_partition[partition_index:]\n",
    "len(train_full_partition), len(income2023f.train), len(train_training_partition), len(train_validation_partition), len(train_training_partition)+len(train_validation_partition)"
   ]
  },
  {
   "cell_type": "code",
   "execution_count": 6,
   "id": "7a181872-7081-4b1b-ad82-b154a0c3d45d",
   "metadata": {
    "tags": []
   },
   "outputs": [
    {
     "data": {
      "text/plain": [
       "(11951, 6164)"
      ]
     },
     "execution_count": 6,
     "metadata": {},
     "output_type": "execute_result"
    }
   ],
   "source": [
    "train_training_partition[-1], train_validation_partition[0]"
   ]
  },
  {
   "cell_type": "code",
   "execution_count": 7,
   "id": "7f362e56-d0d6-4c00-a649-1ea73988e67d",
   "metadata": {
    "tags": []
   },
   "outputs": [],
   "source": [
    "with open('./partition_training.csv', 'w') as f:\n",
    "    f.write('\\n'.join([ str(i) for i in train_training_partition ]))\n",
    "with open('./partition_validation.csv', 'w') as f:\n",
    "    f.write('\\n'.join([ str(i) for i in train_validation_partition ]))"
   ]
  },
  {
   "cell_type": "code",
   "execution_count": 8,
   "id": "6e72c993-d867-4e31-9c8b-3688cafbbf55",
   "metadata": {
    "tags": []
   },
   "outputs": [
    {
     "data": {
      "text/plain": [
       "array([ 6164, 18805, 18094, ..., 17796, 14009, 23762])"
      ]
     },
     "execution_count": 8,
     "metadata": {},
     "output_type": "execute_result"
    }
   ],
   "source": [
    "train_validation_partition"
   ]
  },
  {
   "cell_type": "code",
   "execution_count": null,
   "id": "9125baf9-abce-4f1e-91eb-c072470e0528",
   "metadata": {},
   "outputs": [],
   "source": []
  }
 ],
 "metadata": {
  "kernelspec": {
   "display_name": "Python 3 (ipykernel)",
   "language": "python",
   "name": "python3"
  },
  "language_info": {
   "codemirror_mode": {
    "name": "ipython",
    "version": 3
   },
   "file_extension": ".py",
   "mimetype": "text/x-python",
   "name": "python",
   "nbconvert_exporter": "python",
   "pygments_lexer": "ipython3",
   "version": "3.9.18"
  }
 },
 "nbformat": 4,
 "nbformat_minor": 5
}
