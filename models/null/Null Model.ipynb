{
 "cells": [
  {
   "cell_type": "markdown",
   "id": "83d66cad-119d-47dd-86eb-ddc160c84075",
   "metadata": {},
   "source": [
    "# Null Model\n",
    "The null model shows us how bad guesser would score on the given task. For some tasks, such as tumor detection, it is easy to find non-tumor by guessing everything is a non-tumor since tumor is so rare. Thus the null model shows the baseline ROC curve."
   ]
  },
  {
   "cell_type": "code",
   "execution_count": 13,
   "id": "301702c2-bcbd-4581-8640-3f6e49080aa9",
   "metadata": {
    "tags": []
   },
   "outputs": [],
   "source": [
    "import numpy as np"
   ]
  },
  {
   "cell_type": "code",
   "execution_count": 1,
   "id": "9a839d22-71cd-493f-a848-ed7c7f248241",
   "metadata": {
    "tags": []
   },
   "outputs": [],
   "source": [
    "import sys\n",
    "sys.path.append('../../')"
   ]
  },
  {
   "cell_type": "code",
   "execution_count": 2,
   "id": "0e639d69-83ef-474d-ae81-d391d62171b8",
   "metadata": {
    "tags": []
   },
   "outputs": [
    {
     "name": "stdout",
     "output_type": "stream",
     "text": [
      "Loading Data\n",
      "Finished Loading Data\n"
     ]
    }
   ],
   "source": [
    "import datas.income2023f as income2023f"
   ]
  },
  {
   "cell_type": "code",
   "execution_count": 47,
   "id": "9bb57e98-351b-4ed6-b602-82cf4273ece1",
   "metadata": {
    "tags": []
   },
   "outputs": [
    {
     "data": {
      "text/html": [
       "<div>\n",
       "<style scoped>\n",
       "    .dataframe tbody tr th:only-of-type {\n",
       "        vertical-align: middle;\n",
       "    }\n",
       "\n",
       "    .dataframe tbody tr th {\n",
       "        vertical-align: top;\n",
       "    }\n",
       "\n",
       "    .dataframe thead th {\n",
       "        text-align: right;\n",
       "    }\n",
       "</style>\n",
       "<table border=\"1\" class=\"dataframe\">\n",
       "  <thead>\n",
       "    <tr style=\"text-align: right;\">\n",
       "      <th></th>\n",
       "      <th>age</th>\n",
       "      <th>workclass</th>\n",
       "      <th>fnlwgt</th>\n",
       "      <th>education</th>\n",
       "      <th>education.num</th>\n",
       "      <th>marital.status</th>\n",
       "      <th>occupation</th>\n",
       "      <th>relationship</th>\n",
       "      <th>race</th>\n",
       "      <th>sex</th>\n",
       "      <th>capital.gain</th>\n",
       "      <th>capital.loss</th>\n",
       "      <th>hours.per.week</th>\n",
       "      <th>native.country</th>\n",
       "      <th>income&gt;50K</th>\n",
       "    </tr>\n",
       "  </thead>\n",
       "  <tbody>\n",
       "    <tr>\n",
       "      <th>0</th>\n",
       "      <td>53</td>\n",
       "      <td>Self-emp-not-inc</td>\n",
       "      <td>93449</td>\n",
       "      <td>Prof-school</td>\n",
       "      <td>15</td>\n",
       "      <td>Married-civ-spouse</td>\n",
       "      <td>Prof-specialty</td>\n",
       "      <td>Husband</td>\n",
       "      <td>Asian-Pac-Islander</td>\n",
       "      <td>Male</td>\n",
       "      <td>0</td>\n",
       "      <td>0</td>\n",
       "      <td>40</td>\n",
       "      <td>India</td>\n",
       "      <td>1</td>\n",
       "    </tr>\n",
       "    <tr>\n",
       "      <th>1</th>\n",
       "      <td>33</td>\n",
       "      <td>Self-emp-not-inc</td>\n",
       "      <td>123424</td>\n",
       "      <td>Bachelors</td>\n",
       "      <td>13</td>\n",
       "      <td>Married-civ-spouse</td>\n",
       "      <td>Exec-managerial</td>\n",
       "      <td>Husband</td>\n",
       "      <td>White</td>\n",
       "      <td>Male</td>\n",
       "      <td>0</td>\n",
       "      <td>0</td>\n",
       "      <td>40</td>\n",
       "      <td>United-States</td>\n",
       "      <td>1</td>\n",
       "    </tr>\n",
       "    <tr>\n",
       "      <th>2</th>\n",
       "      <td>47</td>\n",
       "      <td>Private</td>\n",
       "      <td>144844</td>\n",
       "      <td>HS-grad</td>\n",
       "      <td>9</td>\n",
       "      <td>Married-civ-spouse</td>\n",
       "      <td>Craft-repair</td>\n",
       "      <td>Husband</td>\n",
       "      <td>White</td>\n",
       "      <td>Male</td>\n",
       "      <td>0</td>\n",
       "      <td>0</td>\n",
       "      <td>40</td>\n",
       "      <td>United-States</td>\n",
       "      <td>0</td>\n",
       "    </tr>\n",
       "    <tr>\n",
       "      <th>3</th>\n",
       "      <td>40</td>\n",
       "      <td>Private</td>\n",
       "      <td>114580</td>\n",
       "      <td>HS-grad</td>\n",
       "      <td>9</td>\n",
       "      <td>Divorced</td>\n",
       "      <td>Craft-repair</td>\n",
       "      <td>Other-relative</td>\n",
       "      <td>White</td>\n",
       "      <td>Female</td>\n",
       "      <td>0</td>\n",
       "      <td>0</td>\n",
       "      <td>40</td>\n",
       "      <td>Vietnam</td>\n",
       "      <td>0</td>\n",
       "    </tr>\n",
       "    <tr>\n",
       "      <th>4</th>\n",
       "      <td>39</td>\n",
       "      <td>Private</td>\n",
       "      <td>115618</td>\n",
       "      <td>HS-grad</td>\n",
       "      <td>9</td>\n",
       "      <td>Married-civ-spouse</td>\n",
       "      <td>Transport-moving</td>\n",
       "      <td>Husband</td>\n",
       "      <td>White</td>\n",
       "      <td>Male</td>\n",
       "      <td>0</td>\n",
       "      <td>0</td>\n",
       "      <td>50</td>\n",
       "      <td>United-States</td>\n",
       "      <td>0</td>\n",
       "    </tr>\n",
       "    <tr>\n",
       "      <th>...</th>\n",
       "      <td>...</td>\n",
       "      <td>...</td>\n",
       "      <td>...</td>\n",
       "      <td>...</td>\n",
       "      <td>...</td>\n",
       "      <td>...</td>\n",
       "      <td>...</td>\n",
       "      <td>...</td>\n",
       "      <td>...</td>\n",
       "      <td>...</td>\n",
       "      <td>...</td>\n",
       "      <td>...</td>\n",
       "      <td>...</td>\n",
       "      <td>...</td>\n",
       "      <td>...</td>\n",
       "    </tr>\n",
       "    <tr>\n",
       "      <th>24995</th>\n",
       "      <td>18</td>\n",
       "      <td>Private</td>\n",
       "      <td>83451</td>\n",
       "      <td>HS-grad</td>\n",
       "      <td>9</td>\n",
       "      <td>Never-married</td>\n",
       "      <td>Adm-clerical</td>\n",
       "      <td>Not-in-family</td>\n",
       "      <td>White</td>\n",
       "      <td>Female</td>\n",
       "      <td>0</td>\n",
       "      <td>0</td>\n",
       "      <td>25</td>\n",
       "      <td>United-States</td>\n",
       "      <td>0</td>\n",
       "    </tr>\n",
       "    <tr>\n",
       "      <th>24996</th>\n",
       "      <td>64</td>\n",
       "      <td>Local-gov</td>\n",
       "      <td>202738</td>\n",
       "      <td>HS-grad</td>\n",
       "      <td>9</td>\n",
       "      <td>Married-civ-spouse</td>\n",
       "      <td>Adm-clerical</td>\n",
       "      <td>Wife</td>\n",
       "      <td>White</td>\n",
       "      <td>Female</td>\n",
       "      <td>0</td>\n",
       "      <td>0</td>\n",
       "      <td>35</td>\n",
       "      <td>United-States</td>\n",
       "      <td>0</td>\n",
       "    </tr>\n",
       "    <tr>\n",
       "      <th>24997</th>\n",
       "      <td>39</td>\n",
       "      <td>Private</td>\n",
       "      <td>225544</td>\n",
       "      <td>Masters</td>\n",
       "      <td>14</td>\n",
       "      <td>Married-civ-spouse</td>\n",
       "      <td>Transport-moving</td>\n",
       "      <td>Husband</td>\n",
       "      <td>White</td>\n",
       "      <td>Male</td>\n",
       "      <td>0</td>\n",
       "      <td>0</td>\n",
       "      <td>40</td>\n",
       "      <td>Poland</td>\n",
       "      <td>0</td>\n",
       "    </tr>\n",
       "    <tr>\n",
       "      <th>24998</th>\n",
       "      <td>53</td>\n",
       "      <td>Private</td>\n",
       "      <td>346871</td>\n",
       "      <td>HS-grad</td>\n",
       "      <td>9</td>\n",
       "      <td>Divorced</td>\n",
       "      <td>Prof-specialty</td>\n",
       "      <td>Not-in-family</td>\n",
       "      <td>White</td>\n",
       "      <td>Male</td>\n",
       "      <td>4787</td>\n",
       "      <td>0</td>\n",
       "      <td>46</td>\n",
       "      <td>United-States</td>\n",
       "      <td>1</td>\n",
       "    </tr>\n",
       "    <tr>\n",
       "      <th>24999</th>\n",
       "      <td>18</td>\n",
       "      <td>?</td>\n",
       "      <td>192321</td>\n",
       "      <td>Some-college</td>\n",
       "      <td>10</td>\n",
       "      <td>Never-married</td>\n",
       "      <td>?</td>\n",
       "      <td>Own-child</td>\n",
       "      <td>White</td>\n",
       "      <td>Male</td>\n",
       "      <td>0</td>\n",
       "      <td>0</td>\n",
       "      <td>40</td>\n",
       "      <td>United-States</td>\n",
       "      <td>0</td>\n",
       "    </tr>\n",
       "  </tbody>\n",
       "</table>\n",
       "<p>25000 rows × 15 columns</p>\n",
       "</div>"
      ],
      "text/plain": [
       "       age         workclass  fnlwgt     education  education.num  \\\n",
       "0       53  Self-emp-not-inc   93449   Prof-school             15   \n",
       "1       33  Self-emp-not-inc  123424     Bachelors             13   \n",
       "2       47           Private  144844       HS-grad              9   \n",
       "3       40           Private  114580       HS-grad              9   \n",
       "4       39           Private  115618       HS-grad              9   \n",
       "...    ...               ...     ...           ...            ...   \n",
       "24995   18           Private   83451       HS-grad              9   \n",
       "24996   64         Local-gov  202738       HS-grad              9   \n",
       "24997   39           Private  225544       Masters             14   \n",
       "24998   53           Private  346871       HS-grad              9   \n",
       "24999   18                 ?  192321  Some-college             10   \n",
       "\n",
       "           marital.status        occupation    relationship  \\\n",
       "0      Married-civ-spouse    Prof-specialty         Husband   \n",
       "1      Married-civ-spouse   Exec-managerial         Husband   \n",
       "2      Married-civ-spouse      Craft-repair         Husband   \n",
       "3                Divorced      Craft-repair  Other-relative   \n",
       "4      Married-civ-spouse  Transport-moving         Husband   \n",
       "...                   ...               ...             ...   \n",
       "24995       Never-married      Adm-clerical   Not-in-family   \n",
       "24996  Married-civ-spouse      Adm-clerical            Wife   \n",
       "24997  Married-civ-spouse  Transport-moving         Husband   \n",
       "24998            Divorced    Prof-specialty   Not-in-family   \n",
       "24999       Never-married                 ?       Own-child   \n",
       "\n",
       "                     race     sex  capital.gain  capital.loss  hours.per.week  \\\n",
       "0      Asian-Pac-Islander    Male             0             0              40   \n",
       "1                   White    Male             0             0              40   \n",
       "2                   White    Male             0             0              40   \n",
       "3                   White  Female             0             0              40   \n",
       "4                   White    Male             0             0              50   \n",
       "...                   ...     ...           ...           ...             ...   \n",
       "24995               White  Female             0             0              25   \n",
       "24996               White  Female             0             0              35   \n",
       "24997               White    Male             0             0              40   \n",
       "24998               White    Male          4787             0              46   \n",
       "24999               White    Male             0             0              40   \n",
       "\n",
       "      native.country  income>50K  \n",
       "0              India           1  \n",
       "1      United-States           1  \n",
       "2      United-States           0  \n",
       "3            Vietnam           0  \n",
       "4      United-States           0  \n",
       "...              ...         ...  \n",
       "24995  United-States           0  \n",
       "24996  United-States           0  \n",
       "24997         Poland           0  \n",
       "24998  United-States           1  \n",
       "24999  United-States           0  \n",
       "\n",
       "[25000 rows x 15 columns]"
      ]
     },
     "execution_count": 47,
     "metadata": {},
     "output_type": "execute_result"
    }
   ],
   "source": [
    "income2023f.train"
   ]
  },
  {
   "cell_type": "code",
   "execution_count": 53,
   "id": "d4471976-7c76-4b12-96ca-f5727b4e4b33",
   "metadata": {
    "tags": []
   },
   "outputs": [
    {
     "data": {
      "text/plain": [
       "0        1\n",
       "1        1\n",
       "2        0\n",
       "3        0\n",
       "4        0\n",
       "        ..\n",
       "24995    0\n",
       "24996    0\n",
       "24997    0\n",
       "24998    1\n",
       "24999    0\n",
       "Name: income>50K, Length: 25000, dtype: int64"
      ]
     },
     "execution_count": 53,
     "metadata": {},
     "output_type": "execute_result"
    }
   ],
   "source": [
    "income2023f.train['income>50K']"
   ]
  },
  {
   "cell_type": "code",
   "execution_count": 25,
   "id": "278e86ad-8819-4bb7-b655-0426c35cad39",
   "metadata": {
    "tags": []
   },
   "outputs": [],
   "source": [
    "y_true = np.array(list(income2023f.train['income>50K']))"
   ]
  },
  {
   "cell_type": "code",
   "execution_count": 17,
   "id": "7283a40e-bea5-47f1-8b80-eb46985bffc6",
   "metadata": {
    "tags": []
   },
   "outputs": [],
   "source": [
    "threshold = 0.5\n",
    "guesses = np.random.uniform(low=0, high=1, size=len(income2023f.train))>threshold"
   ]
  },
  {
   "cell_type": "code",
   "execution_count": 26,
   "id": "cb447230-bd03-477f-8a34-1200204def98",
   "metadata": {
    "tags": []
   },
   "outputs": [
    {
     "data": {
      "text/plain": [
       "((25000,), (25000,))"
      ]
     },
     "execution_count": 26,
     "metadata": {},
     "output_type": "execute_result"
    }
   ],
   "source": [
    "guesses.shape, y_true.shape"
   ]
  },
  {
   "cell_type": "code",
   "execution_count": 20,
   "id": "321fd6a7-e58d-43c1-a3cf-f25b6091b2e0",
   "metadata": {
    "tags": []
   },
   "outputs": [],
   "source": [
    "import scikitplot as skplt"
   ]
  },
  {
   "cell_type": "code",
   "execution_count": 42,
   "id": "c9d51be8-9aad-4b63-9458-37ddf5418ba8",
   "metadata": {
    "tags": []
   },
   "outputs": [
    {
     "data": {
      "text/plain": [
       "0.24064"
      ]
     },
     "execution_count": 42,
     "metadata": {},
     "output_type": "execute_result"
    }
   ],
   "source": [
    "y_true_bar = np.mean(y_true)\n",
    "y_true_bar"
   ]
  },
  {
   "cell_type": "code",
   "execution_count": 46,
   "id": "aa37cc50-b6bb-4711-bab3-22446f5ec6f4",
   "metadata": {
    "tags": []
   },
   "outputs": [
    {
     "data": {
      "image/png": "[encoded data removed]",
      "text/plain": [
       "<Figure size 640x480 with 1 Axes>"
      ]
     },
     "metadata": {},
     "output_type": "display_data"
    }
   ],
   "source": [
    "ax = skplt.metrics.plot_roc(\n",
    "    y_true,\n",
    "    np.array([\n",
    "        1-guesses,\n",
    "        guesses\n",
    "    ]).T\n",
    ")"
   ]
  },
  {
   "cell_type": "code",
   "execution_count": 61,
   "id": "18686985-091c-459a-9c18-0565241e7871",
   "metadata": {
    "tags": []
   },
   "outputs": [
    {
     "data": {
      "text/plain": [
       "23842"
      ]
     },
     "execution_count": 61,
     "metadata": {},
     "output_type": "execute_result"
    }
   ],
   "source": [
    "len(income2023f.test)"
   ]
  },
  {
   "cell_type": "code",
   "execution_count": 62,
   "id": "45fd1c4d-fd20-4d46-acd8-55a5257a0d57",
   "metadata": {
    "tags": []
   },
   "outputs": [],
   "source": [
    "import pandas as pd"
   ]
  },
  {
   "cell_type": "code",
   "execution_count": 63,
   "id": "dad76023-1966-4c81-8fc7-f36744d452cc",
   "metadata": {
    "tags": []
   },
   "outputs": [],
   "source": [
    "pd.DataFrame(\n",
    "    {\n",
    "        'ID': list(range(1, 23843)),\n",
    "        'Prediction':np.random.uniform(low=0, high=1, size=len(income2023f.test))\n",
    "    }\n",
    ").to_csv('./null_model_test_predictions.csv', index=False)"
   ]
  }
 ],
 "metadata": {
  "kernelspec": {
   "display_name": "Python 3 (ipykernel)",
   "language": "python",
   "name": "python3"
  },
  "language_info": {
   "codemirror_mode": {
    "name": "ipython",
    "version": 3
   },
   "file_extension": ".py",
   "mimetype": "text/x-python",
   "name": "python",
   "nbconvert_exporter": "python",
   "pygments_lexer": "ipython3",
   "version": "3.9.18"
  }
 },
 "nbformat": 4,
 "nbformat_minor": 5
}
